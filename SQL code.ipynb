{
 "cells": [
  {
   "cell_type": "code",
   "execution_count": null,
   "metadata": {},
   "outputs": [],
   "source": [
    "with \n",
    "base_total as\n",
    "(\n",
    "\tselect\n",
    "\t\tcount(column_gold) as column_gold_t,\n",
    "        count(column_ks) as column_ks_t,\n",
    "        count(column_cpi) as column_cpi_t\n",
    "\tfrom third\n",
    "),\n",
    "base_merge as\n",
    "(\n",
    "\tselect\n",
    "\t\ta.date_input,\n",
    "        a.column_gold,\n",
    "        a.column_ks,\n",
    "        a.column_cpi,\n",
    "        a.gold_diff as gold_diff,\n",
    "        a.ks_diff as ks_diff,\n",
    "        a.cpi_diff as cpi_dff,\n",
    "\t\t\tcount(case when a.gold_diff > 0 and a.ks_diff > 0 then 1 end) over (partition by date_input) as gold_ks_plus,\n",
    "            count(case when a.gold_diff > 0 and a.cpi_diff > 0 then 1 end) over (partition by date_input) as gold_cpi_plus,\n",
    "            count(case when a.ks_diff > 0 and a.cpi_diff > 0 then 1 end) over (partition by date_input) as ks_cpi_plus,\n",
    "\t\t\tcount(case when a.gold_diff > 0 and a.ks_diff > 0 and a.cpi_diff > 0 then 1 end) over (partition by date_input) as all_plus,\n",
    "            count(case when a.gold_diff < 0 and a.ks_diff < 0 then 1 end) over (partition by date_input) as gold_ks_minus,\n",
    "            count(case when a.gold_diff < 0 and a.cpi_diff < 0 then 1 end) over (partition by date_input) as gold_cpi_minus,\n",
    "            count(case when a.ks_diff < 0 and a.cpi_diff < 0 then 1 end) over (partition by date_input) as ks_cpi_minus,\n",
    "            count(case when a.gold_diff < 0 and a.ks_diff < 0 and a.cpi_diff < 0 then 1 end) over (partition by date_input) as all_minus\n",
    "\t\tfrom\n",
    "        (\n",
    "\t\t\tselect\n",
    "            date_input,\n",
    "            column_gold,\n",
    "            column_ks,\n",
    "            column_cpi,\n",
    "            round(lead(column_gold,1,column_gold) over(order by date_input) - column_gold,2) as gold_diff,\n",
    "\t\t\tround(lead(column_ks,1,column_ks) over(order by date_input)- column_ks,2) as ks_diff,\n",
    "            round(lead(column_cpi,1,column_cpi) over(order by date_input)- column_cpi,2) as cpi_diff\n",
    "\t\tfrom third \n",
    "        ) a left join base_total b on 1=1\n",
    "        group by a.date_input, a.gold_diff, a.ks_diff, a.cpi_diff, column_gold, column_ks, column_cpi\n",
    "        order by a.date_input\n",
    ") \n",
    "select\n",
    "\t*\n",
    "from base_merge\n",
    ";"
   ]
  }
 ],
 "metadata": {
  "language_info": {
   "name": "python"
  },
  "orig_nbformat": 4
 },
 "nbformat": 4,
 "nbformat_minor": 2
}
