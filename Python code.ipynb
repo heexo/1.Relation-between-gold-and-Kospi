import yfinance as yf
import matplotlib.pyplot as plt
import requests
import pandas as pd
import yfinance as yf
import pandas as pd
from datetime import datetime
symbol = ["^KS11","GC=F","CPI"]
start = '2010-01-01'
end = '2023-01-01'
df = yf.download(symbol,start)
print(df)
plt.subplot(311)
plt.plot(df.index, df.Close['^KS11'], color='#8EC3A7')
plt.subplot(312)
plt.plot(df.index, df.Close['GC=F'], color='#F0CB69')
plt.subplot(313)
plt.plot(df.index, df.Close['CPI'], color='#DC5356')
plt.xlabel('year')
plt.legend()
plt.show()import yfinance as yf
import matplotlib.pyplot as plt
import requests
import pandas as pd
import yfinance as yf
import pandas as pd
from datetime import datetime
symbol = ["^KS11","GC=F","CPI"]
start = '2010-01-01'
end = '2023-01-01'
df = yf.download(symbol,start)
print(df)
plt.subplot(311)
plt.plot(df.index, df.Close['^KS11'], color='#8EC3A7')
plt.subplot(312)
plt.plot(df.index, df.Close['GC=F'], color='#F0CB69')
plt.subplot(313)
plt.plot(df.index, df.Close['CPI'], color='#DC5356')
plt.xlabel('year')
plt.legend()
plt.show()